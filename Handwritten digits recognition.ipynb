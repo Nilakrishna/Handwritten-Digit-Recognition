{
 "cells": [
  {
   "cell_type": "code",
   "execution_count": 1,
   "id": "3d7e5714",
   "metadata": {},
   "outputs": [],
   "source": [
    "import os\n",
    "import cv2\n",
    "import numpy as np\n",
    "import matplotlib.pyplot as plt\n",
    "import tensorflow as tf"
   ]
  },
  {
   "cell_type": "code",
   "execution_count": 17,
   "id": "e8e262cf",
   "metadata": {},
   "outputs": [],
   "source": [
    "#load dataset\n",
    "mnist=tf.keras.datasets.mnist\n",
    "\n"
   ]
  },
  {
   "cell_type": "code",
   "execution_count": 18,
   "id": "0f3f2534",
   "metadata": {},
   "outputs": [],
   "source": [
    "#splitting into train and test data- x:pixel data, y:classiffication digits\n",
    "(x_train,y_train),(x_test,y_test)=mnist.load_data()\n"
   ]
  },
  {
   "cell_type": "code",
   "execution_count": 4,
   "id": "ebbbc0e9",
   "metadata": {},
   "outputs": [],
   "source": [
    "#scaling to 0-1\n",
    "x_train=tf.keras.utils.normalize(x_train,axis=1)\n",
    "x_test =tf.keras.utils.normalize(x_test,axis=1)"
   ]
  },
  {
   "cell_type": "code",
   "execution_count": 5,
   "id": "0486e150",
   "metadata": {},
   "outputs": [],
   "source": [
    " # Create a neural network model\n",
    "# Add one flattened input layer for the pixels\n",
    "# Add two dense hidden layers\n",
    "# Add one dense output layer for the 10 digits\n",
    "model=tf.keras.models.Sequential()\n",
    "model.add(tf.keras.layers.Flatten(input_shape=(28,28)))\n",
    "model.add(tf.keras.layers.Dense(128,activation='relu'))\n",
    "model.add(tf.keras.layers.Dense(128,activation='relu')) \n",
    "model.add(tf.keras.layers.Dense(10,activation='softmax')) \n",
    "\n",
    " # Compiling and optimizing model\n",
    "model.compile(optimizer='adam',loss='sparse_categorical_crossentropy',metrics=['accuracy'])"
   ]
  },
  {
   "cell_type": "code",
   "execution_count": 6,
   "id": "661bb5bd",
   "metadata": {},
   "outputs": [
    {
     "name": "stdout",
     "output_type": "stream",
     "text": [
      "Epoch 1/3\n",
      "1875/1875 [==============================] - 7s 3ms/step - loss: 0.2656 - accuracy: 0.9216\n",
      "Epoch 2/3\n",
      "1875/1875 [==============================] - 6s 3ms/step - loss: 0.1079 - accuracy: 0.9673\n",
      "Epoch 3/3\n",
      "1875/1875 [==============================] - 6s 3ms/step - loss: 0.0728 - accuracy: 0.9767\n",
      "INFO:tensorflow:Assets written to: handwritten_model\\assets\n"
     ]
    }
   ],
   "source": [
    "#training the model\n",
    "model.fit(x_train,y_train,epochs=3)\n",
    "model.save('handwritten_model')"
   ]
  },
  {
   "cell_type": "code",
   "execution_count": 7,
   "id": "fd979861",
   "metadata": {},
   "outputs": [],
   "source": [
    "#loading model\n",
    "model= tf.keras.models.load_model('handwritten_model')"
   ]
  },
  {
   "cell_type": "code",
   "execution_count": 8,
   "id": "90385683",
   "metadata": {},
   "outputs": [
    {
     "name": "stdout",
     "output_type": "stream",
     "text": [
      "313/313 [==============================] - 1s 3ms/step - loss: 0.0970 - accuracy: 0.9706\n",
      "0.0970030426979065\n",
      "0.9706000089645386\n"
     ]
    }
   ],
   "source": [
    "#model evaluation\n",
    "loss,accuracy=model.evaluate(x_test,y_test)\n",
    "print(loss)\n",
    "print(accuracy)"
   ]
  },
  {
   "cell_type": "code",
   "execution_count": 20,
   "id": "66fe809a",
   "metadata": {},
   "outputs": [
    {
     "name": "stdout",
     "output_type": "stream",
     "text": [
      "1/1 [==============================] - 0s 19ms/step\n",
      "The number is probably a 1\n"
     ]
    },
    {
     "data": {
      "image/png": "[encoded data removed]",
      "text/plain": [
       "<Figure size 432x288 with 1 Axes>"
      ]
     },
     "metadata": {
      "needs_background": "light"
     },
     "output_type": "display_data"
    },
    {
     "name": "stdout",
     "output_type": "stream",
     "text": [
      "1/1 [==============================] - 0s 19ms/step\n",
      "The number is probably a 2\n"
     ]
    },
    {
     "data": {
      "image/png": "[encoded data removed]",
      "text/plain": [
       "<Figure size 432x288 with 1 Axes>"
      ]
     },
     "metadata": {
      "needs_background": "light"
     },
     "output_type": "display_data"
    },
    {
     "name": "stdout",
     "output_type": "stream",
     "text": [
      "1/1 [==============================] - 0s 20ms/step\n",
      "The number is probably a 3\n"
     ]
    },
    {
     "data": {
      "image/png": "[encoded data removed]",
      "text/plain": [
       "<Figure size 432x288 with 1 Axes>"
      ]
     },
     "metadata": {
      "needs_background": "light"
     },
     "output_type": "display_data"
    },
    {
     "name": "stdout",
     "output_type": "stream",
     "text": [
      "1/1 [==============================] - 0s 19ms/step\n",
      "The number is probably a 4\n"
     ]
    },
    {
     "data": {
      "image/png": "[encoded data removed]",
      "text/plain": [
       "<Figure size 432x288 with 1 Axes>"
      ]
     },
     "metadata": {
      "needs_background": "light"
     },
     "output_type": "display_data"
    },
    {
     "name": "stdout",
     "output_type": "stream",
     "text": [
      "1/1 [==============================] - 0s 20ms/step\n",
      "The number is probably a 5\n"
     ]
    },
    {
     "data": {
      "image/png": "[encoded data removed]",
      "text/plain": [
       "<Figure size 432x288 with 1 Axes>"
      ]
     },
     "metadata": {
      "needs_background": "light"
     },
     "output_type": "display_data"
    },
    {
     "name": "stdout",
     "output_type": "stream",
     "text": [
      "1/1 [==============================] - 0s 20ms/step\n",
      "The number is probably a 6\n"
     ]
    },
    {
     "data": {
      "image/png": "[encoded data removed]",
      "text/plain": [
       "<Figure size 432x288 with 1 Axes>"
      ]
     },
     "metadata": {
      "needs_background": "light"
     },
     "output_type": "display_data"
    }
   ],
   "source": [
    "\n",
    "# Load custom images and predict them\n",
    "image_number = 1\n",
    "while os.path.isfile('digits/digit{}.png'.format(image_number)):\n",
    "    try:\n",
    "        img = cv2.imread('digits/digit{}.png'.format(image_number))[:,:,0]\n",
    "        img = np.invert(np.array([img]))\n",
    "        prediction = model.predict(img)\n",
    "        print(\"The number is probably a {}\".format(np.argmax(prediction)))\n",
    "        plt.imshow(img[0], cmap=plt.cm.binary)\n",
    "        plt.show()\n",
    "        image_number += 1\n",
    "    except:\n",
    "        print(\"Error reading image! Proceeding with next image...\")\n",
    "        image_number += 1   "
   ]
  },
  {
   "cell_type": "code",
   "execution_count": null,
   "id": "56e7707e",
   "metadata": {},
   "outputs": [],
   "source": []
  }
 ],
 "metadata": {
  "kernelspec": {
   "display_name": "Python 3 (ipykernel)",
   "language": "python",
   "name": "python3"
  },
  "language_info": {
   "codemirror_mode": {
    "name": "ipython",
    "version": 3
   },
   "file_extension": ".py",
   "mimetype": "text/x-python",
   "name": "python",
   "nbconvert_exporter": "python",
   "pygments_lexer": "ipython3",
   "version": "3.10.6"
  }
 },
 "nbformat": 4,
 "nbformat_minor": 5
}
